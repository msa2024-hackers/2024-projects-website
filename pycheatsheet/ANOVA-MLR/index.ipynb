{
  "cells": [
    {
      "cell_type": "raw",
      "metadata": {},
      "source": [
        "---\n",
        "title: Complex ANOVA and Multiple Linear Regression\n",
        "author: Yang Chen\n",
        "date: 09/04/2023\n",
        "---"
      ],
      "id": "c2b9dd5e"
    },
    {
      "cell_type": "markdown",
      "metadata": {},
      "source": [
        "{{< include ../_setup.qmd >}}\n",
        "\n",
        "## Additional Setup"
      ],
      "id": "ffe8d6fd"
    },
    {
      "cell_type": "code",
      "metadata": {},
      "source": [
        "from sklearn.model_selection import train_test_split\n",
        "\n",
        "train, test = train_test_split(ames, test_size=0.3, random_state=123)"
      ],
      "id": "855c6141",
      "execution_count": null,
      "outputs": []
    },
    {
      "cell_type": "markdown",
      "metadata": {},
      "source": [
        "# Two-Way ANOVA"
      ],
      "id": "aa2c9c1f"
    },
    {
      "cell_type": "code",
      "metadata": {},
      "source": [
        "model = smf.ols(\"Sale_Price ~ C(Heating_QC) + C(Central_Air)\", data=train).fit()\n",
        "model.summary()"
      ],
      "id": "6596616e",
      "execution_count": null,
      "outputs": []
    },
    {
      "cell_type": "code",
      "metadata": {},
      "source": [
        "sma.stats.anova_lm(model, typ=2)"
      ],
      "id": "8d845786",
      "execution_count": null,
      "outputs": []
    },
    {
      "cell_type": "markdown",
      "metadata": {},
      "source": [
        "# ANOVA Post-Hoc Testing"
      ],
      "id": "9d9e0678"
    },
    {
      "cell_type": "code",
      "metadata": {},
      "source": [
        "from statsmodels.stats.multicomp import pairwise_tukeyhsd\n",
        "\n",
        "train[\"anova_combo\"] = train[\"Heating_QC\"].astype(\"string\") + \" / \" + train[\"Central_Air\"]\n",
        "mcomp = pairwise_tukeyhsd(endog=train[\"Sale_Price\"], groups=train[\"anova_combo\"], alpha=0.05)\n",
        "\n",
        "mcomp.summary()"
      ],
      "id": "c9c9f821",
      "execution_count": null,
      "outputs": []
    },
    {
      "cell_type": "code",
      "metadata": {},
      "source": [
        "mcomp.plot_simultaneous()"
      ],
      "id": "2eb1a6f8",
      "execution_count": null,
      "outputs": []
    }
  ],
  "metadata": {
    "kernelspec": {
      "name": "python3",
      "language": "python",
      "display_name": "Python 3 (ipykernel)"
    }
  },
  "nbformat": 4,
  "nbformat_minor": 5
}